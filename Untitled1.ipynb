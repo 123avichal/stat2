{
 "cells": [
  {
   "cell_type": "markdown",
   "id": "080e51a7-d415-4dfc-baae-2c7cb4daf20a",
   "metadata": {},
   "source": [
    "Q1. What are the three measures of central tendency?"
   ]
  },
  {
   "cell_type": "markdown",
   "id": "c7524a4b-714b-44b2-8518-8caa8642051e",
   "metadata": {},
   "source": [
    "statistics is a collecting, organising  and analyzing the data . it further divided into types namely discriptive and infrential statistics .\n",
    "in discriptive statistics organing  and summarising the data . it genrally consists measurements of central tendency include (mean , median ,mode)\n",
    "\n",
    "MEAN - In general mean is said to be the average of data which represent in formulae  xi/N , xi means data point of where as N is numbers of element \n",
    "\n",
    "MEDIAN -  median is said to be the mid point of data where it calculated by formulae  for odd and even - Median = [(n + 1)/2]th term, Median = [(n/2)th term + ((n/2) + 1)th term]/2\n",
    "\n",
    "MODE = it generally represent the frequency of the element  Mode Formula = L + (fm - f1) x h / (fm - f1) + (fm - f2) "
   ]
  },
  {
   "cell_type": "markdown",
   "id": "0404ffa3-4df7-401d-b695-ab8e20a24d71",
   "metadata": {},
   "source": [
    "Q2. What is the difference between the mean, median, and mode? How are they used to measure the central tendency of a dataset?"
   ]
  },
  {
   "cell_type": "markdown",
   "id": "b29a7b1c-668d-4e2d-851a-bb98f9e19785",
   "metadata": {},
   "source": [
    "\n",
    "Mean-The average taken for a set of numbers is called a mean.\n",
    "\n",
    "2 Add all of the numbers together and divide the sum by the total number of values.\n",
    "\n",
    "3 When data is normally distributed, the mean is widely preferred.\n",
    "\n",
    "Median-The average taken for a set of numbers is called a mean.\tThe middle value in the data set is called the Median.\n",
    "\n",
    "2 Place all the given numbers in an ascending order\n",
    " \n",
    "3 When data distribution is skewed, median is the best representative.\n",
    "\n",
    "mode-\tThe average taken for a set of numbers is called a mean.\tThe middle value in the data set is called the Median.\tThe number that occurs the most in a given list of numbers is called a mode.\n",
    "\n",
    "2 It shows the frequency of occurrence.\n",
    "\n",
    "3 When data is normally distributed, the mean is widely preferred.\tWhen data distribution is skewed, median is the best representative.\tWhen there is a nominal distribution of data, the mode is preferred.\n",
    "\n",
    "\n",
    "Mean: \n",
    "\n",
    "8 + 4 + 2 + 1 + 1 + 4 + 3 + 1 = 24 and 24/8 = 3\n",
    "\n",
    "Median: \n",
    "\n",
    "2 + 3/2 = 2.5 (after arranging the numbers in ascending order as 1, 1, 1, 2, 3, 4, 4, 8 and middle terms are 2 and 3 as total number of terms are 8 which is even)\n",
    "\n",
    "Mode:\n",
    "\n",
    "1 because it is present 3 times in the sequence\n",
    "\n"
   ]
  },
  {
   "cell_type": "markdown",
   "id": "e1131718-8315-4d69-8e9a-07896122148b",
   "metadata": {},
   "source": [
    "Q3. Measure the three measures of central tendency for the given height data:\n",
    "[178,177,176,177,178.2,178,175,179,180,175,178.9,176.2,177,172.5,178,176.5]"
   ]
  },
  {
   "cell_type": "code",
   "execution_count": 17,
   "id": "47c11952-ab71-4e2c-b82c-9273dd8ee740",
   "metadata": {},
   "outputs": [],
   "source": [
    "height = [178,177,176,177,178.2,178,175,179,180,175,178.9,176.2,177,172.5,178,176.5]"
   ]
  },
  {
   "cell_type": "code",
   "execution_count": 18,
   "id": "c21b7482-6c4b-4180-90f6-7fb009d99849",
   "metadata": {},
   "outputs": [],
   "source": [
    "import numpy as np\n",
    "import scipy as sc"
   ]
  },
  {
   "cell_type": "code",
   "execution_count": 19,
   "id": "c61608d4-ebf2-48b3-ad3e-30162a9230d5",
   "metadata": {},
   "outputs": [
    {
     "data": {
      "text/plain": [
       "177.01875"
      ]
     },
     "execution_count": 19,
     "metadata": {},
     "output_type": "execute_result"
    }
   ],
   "source": [
    "np.mean(height)"
   ]
  },
  {
   "cell_type": "code",
   "execution_count": 20,
   "id": "a2a507b3-66cc-47c3-aa5c-109d34ca0d16",
   "metadata": {},
   "outputs": [
    {
     "data": {
      "text/plain": [
       "177.0"
      ]
     },
     "execution_count": 20,
     "metadata": {},
     "output_type": "execute_result"
    }
   ],
   "source": [
    "np.median(height)"
   ]
  },
  {
   "cell_type": "code",
   "execution_count": 21,
   "id": "5392e04b-e430-4821-8460-d43dae305831",
   "metadata": {},
   "outputs": [
    {
     "name": "stderr",
     "output_type": "stream",
     "text": [
      "/tmp/ipykernel_777/3647125896.py:1: FutureWarning: Unlike other reduction functions (e.g. `skew`, `kurtosis`), the default behavior of `mode` typically preserves the axis it acts along. In SciPy 1.11.0, this behavior will change: the default value of `keepdims` will become False, the `axis` over which the statistic is taken will be eliminated, and the value None will no longer be accepted. Set `keepdims` to True or False to avoid this warning.\n",
      "  sc.stats.mode(height)\n"
     ]
    },
    {
     "data": {
      "text/plain": [
       "ModeResult(mode=array([177.]), count=array([3]))"
      ]
     },
     "execution_count": 21,
     "metadata": {},
     "output_type": "execute_result"
    }
   ],
   "source": [
    "sc.stats.mode(height)"
   ]
  },
  {
   "cell_type": "markdown",
   "id": "ad39fb3d-d631-4796-b0f7-c21cdb20fabd",
   "metadata": {},
   "source": [
    "Q4. Find the standard deviation for the given data:\n",
    "[178,177,176,177,178.2,178,175,179,180,175,178.9,176.2,177,172.5,178,176.5]"
   ]
  },
  {
   "cell_type": "code",
   "execution_count": 22,
   "id": "1f2369f1-426d-4abc-b653-5b663ed17e97",
   "metadata": {},
   "outputs": [],
   "source": [
    "height = [178,177,176,177,178.2,178,175,179,180,175,178.9,176.2,177,172.5,178,176.5]"
   ]
  },
  {
   "cell_type": "code",
   "execution_count": 23,
   "id": "7956f5c8-8d5d-440b-a129-2005071aa913",
   "metadata": {},
   "outputs": [],
   "source": [
    "import numpy as np"
   ]
  },
  {
   "cell_type": "code",
   "execution_count": 24,
   "id": "97462969-9db7-4776-a51d-04d5f5809d29",
   "metadata": {},
   "outputs": [
    {
     "data": {
      "text/plain": [
       "1.7885814036548633"
      ]
     },
     "execution_count": 24,
     "metadata": {},
     "output_type": "execute_result"
    }
   ],
   "source": [
    "np.std(height)"
   ]
  },
  {
   "cell_type": "markdown",
   "id": "b2b3b4d9-92a0-4532-a28a-b10115cae3d0",
   "metadata": {},
   "source": [
    "Q7. For the two given sets A = (2,3,4,5,6,7) & B = (0,2,6,8,10). Find:\n",
    "(i) A B\n",
    "(ii) A ⋃ B"
   ]
  },
  {
   "cell_type": "markdown",
   "id": "62309542-9288-40b8-82d0-e30d38cabcb1",
   "metadata": {},
   "source": [
    "(ii) - (2,3,4,5,6,7,8,10)\n",
    "(i) - (3,4,5,7,0,8,10)"
   ]
  },
  {
   "cell_type": "markdown",
   "id": "f610452a-de8d-41a0-85fe-24c0a25d713e",
   "metadata": {},
   "source": [
    "Q6. What is a Venn diagram?"
   ]
  },
  {
   "cell_type": "markdown",
   "id": "983c1913-b4f3-451a-a51c-b4758645ce22",
   "metadata": {},
   "source": [
    "Venn diagrams are the diagrams that are used to represent the sets, relation between the sets and operation performed on them, in a pictorial way. Venn diagram, introduced by John Venn (1834-1883), uses circles (overlapping, intersecting and non-intersecting), to denote the relationship between sets. A Venn diagram is also called a set diagram or a logic diagram showing different set operations such as the intersection of sets, union of sets and difference of sets. It is also used to depict subsets of a set."
   ]
  },
  {
   "cell_type": "markdown",
   "id": "4a94c3e9-77ca-4ed9-a5de-22aec0adef6e",
   "metadata": {},
   "source": [
    "Q8. What do you understand about skewness in data?"
   ]
  },
  {
   "cell_type": "markdown",
   "id": "b18b3274-ad26-44db-b9d3-2056bd23f1f1",
   "metadata": {},
   "source": [
    "Skewness is demonstrated on a bell curve when data points are not distributed symmetrically to the left and right sides of the median on a bell curve. If the bell curve is shifted to the left or the right, it is said to be skewed"
   ]
  },
  {
   "cell_type": "markdown",
   "id": "6e8b23b7-e04d-4aa0-9361-c5684a95cb9c",
   "metadata": {},
   "source": [
    "Q9. If a data is right skewed then what will be the position of median with respect to mean?"
   ]
  },
  {
   "cell_type": "markdown",
   "id": "f773526e-1dda-4829-8582-74914cd938ce",
   "metadata": {},
   "source": [
    "If the distribution of data is skewed to the right, the mode is often less than the median, which is less than the mean. \n",
    "\n",
    "right skewed = mean>median>mode"
   ]
  },
  {
   "cell_type": "markdown",
   "id": "db7b6311-3488-49a7-b9d8-0435148170f8",
   "metadata": {},
   "source": [
    "Q11. What is the formula for calculating the sample mean? Provide an example calculation for a\n",
    "dataset."
   ]
  },
  {
   "cell_type": "markdown",
   "id": "66a4ad3b-607e-41ea-99f6-55c0912744e0",
   "metadata": {},
   "source": [
    "The sample mean formula is: x̄ = ( Σ xi ) / n\n",
    "\n",
    "Example:Find the sample mean of 60, 57, 109, 50.\n",
    "\n",
    "Solution: \n",
    "To find: Sample mean\n",
    "Sum of terms = 60 + 57 + 109 + 50 = 276\n",
    "Number of terms = 4\n",
    "Using sample mean formula,\n",
    "mean = (sum of terms)/(number of terms)\n",
    "mean = 276/4 = 69"
   ]
  },
  {
   "cell_type": "markdown",
   "id": "b83eab7a-ffcc-41b8-830c-cf99524a9b32",
   "metadata": {},
   "source": [
    "Q13. How is covariance different from correlation?"
   ]
  },
  {
   "cell_type": "markdown",
   "id": "ae7f7d52-44fd-4be0-bc0a-4f96f5cc453f",
   "metadata": {},
   "source": [
    "Covariance is a quantitative measure of the degree to which the deviation of one variable (X) from its mean is related to the deviation of another variable (Y) from its mean. To simplify, covariance measures the joint variability of two random variables.\n",
    "\n",
    "Correlation tells us both the strength and the direction of this relationship. Correlation is best used for multiple variables that express a linear relationship with one another. When we assume a correlation between two variables, we are essentially deducing that a change in one variable impacts a change in another variable. Correlation helps us to determine whether or not, and how strongly, changes in various variables relate to each other."
   ]
  },
  {
   "cell_type": "markdown",
   "id": "feb09d05-8fd6-47c2-9cc6-0da37f59aebb",
   "metadata": {},
   "source": [
    "Q14. How do outliers affect measures of central tendency and dispersion? Provide an example."
   ]
  },
  {
   "cell_type": "markdown",
   "id": "4fa727a6-c782-4328-9db9-c53e51c4bec1",
   "metadata": {},
   "source": [
    "Mean is the measure of central tendency affected most by the outliers. Mean increases with the high outlier and decreases with the low outlier.\n",
    "\n",
    "Consider a small dataset having 5 values. The values in ascending order are 10,13,13,17,100.\n",
    "\n",
    "In the above example, the mean will be 153/6 = 30.6\n",
    "\n",
    "The median will be 13\n",
    "\n",
    "The mode will be 13\n",
    "\n",
    "From the above example, we can interpret that the mean is the only measure of central tendency affected by outliers."
   ]
  },
  {
   "cell_type": "markdown",
   "id": "d4c041c7-0c04-4c86-b753-b895164410f8",
   "metadata": {},
   "source": [
    "Q12. For a normal distribution data what is the relationship between its measure of central tendency?"
   ]
  },
  {
   "cell_type": "markdown",
   "id": "50c832b1-f0f7-41cc-a74c-3b0aa13ff7f6",
   "metadata": {},
   "source": [
    "For normally distributed data, all three measures of central tendency will give you the same answer so they can all be used. In skewed distributions, the median is the best measure because it is unaffected by extreme outliers or non-symmetric distributions of scores. The mean and mode can vary in skewed distributions"
   ]
  },
  {
   "cell_type": "markdown",
   "id": "a173628d-ad3b-4f1d-8e79-e94a2af7898d",
   "metadata": {},
   "source": [
    "Q10. Explain the difference between covariance and correlation. How are these measures used in\n",
    "statistical analysis?"
   ]
  },
  {
   "cell_type": "markdown",
   "id": "656fd907-9338-4e84-97e8-5438e6cea5c8",
   "metadata": {},
   "source": [
    "Covariance Vs Correlation gives us the differences between the two statistical concepts used to determine the relationship between two random variables and that are exactly opposite to each other. However, they both are used in statistics and regression analysis. Covariance shows us how the two variables vary or differ from each other, whereas Correlation shows us the relationship and how they are related, i.e., how modification of one variable impacts the other."
   ]
  },
  {
   "cell_type": "markdown",
   "id": "1ded6672-a3ec-4f0d-8f6f-c52372e9864d",
   "metadata": {},
   "source": [
    "Q5. How are measures of dispersion such as range, variance, and standard deviation used to describe\n",
    "the spread of a dataset? Provide an example."
   ]
  },
  {
   "cell_type": "markdown",
   "id": "8a11acc0-2674-45aa-8082-cf6108a7be2f",
   "metadata": {},
   "source": [
    "Range\n",
    "\n",
    "We need to find out the minimum and the maximum values of the data distribution. \n",
    "\n",
    "Min Value = -6 \n",
    "\n",
    "Max Value = +6 \n",
    "\n",
    "Range = Max Value – Min Value \n",
    "\n",
    "            = 6 – (-6) \n",
    "\n",
    "            = 12 \n",
    "\n",
    "Variance\n",
    "\n",
    "To find the variance, we first need to find the mean, \n",
    "\n",
    "Mean = \\frac{( -4  + -2 + 0 + -2 + 6 + 4 + 6 + 0  - 6 + 4)}{10}\n",
    "\n",
    "          = \\frac{6}{10}\n",
    "\n",
    "          = 0.6\n",
    "\n",
    "We know the formula for Variance, \n",
    "\n",
    "Variance =  \\frac{\\sum^{n}_{0}(x_i - \\bar{x})^2}{n}\n",
    "\n",
    "                = \\frac{(x_1 - \\bar{x})^2 + (x_2 - \\bar{x})^2 + (x_3 - \\bar{x})^2 .... (x_n - \\bar{x})^2}{n}\n",
    "\n",
    "                = \\frac{(-4 - 0.6)^2 + (-2 - 0.6)^2 + (0 - 0.6)^2 .... }{10}\n",
    "\n",
    "                = 17.82 \n",
    "\n",
    "Standard Deviation\n",
    "\n",
    "\\sigma = \\sqrt{\\frac{\\sum^{n}_{0}(x_i - \\bar{x})^2}{n}}\n",
    "\n",
    "⇒ \\sigma = \\sqrt{17.82}\n",
    "\n",
    "⇒ \\sigma = 4.22"
   ]
  }
 ],
 "metadata": {
  "kernelspec": {
   "display_name": "Python 3 (ipykernel)",
   "language": "python",
   "name": "python3"
  },
  "language_info": {
   "codemirror_mode": {
    "name": "ipython",
    "version": 3
   },
   "file_extension": ".py",
   "mimetype": "text/x-python",
   "name": "python",
   "nbconvert_exporter": "python",
   "pygments_lexer": "ipython3",
   "version": "3.10.8"
  }
 },
 "nbformat": 4,
 "nbformat_minor": 5
}
